{
 "cells": [
  {
   "cell_type": "markdown",
   "metadata": {},
   "source": [
    "%%bash\n",
    "source /home/blue/ROOT/root_build/bin/thisroot.sh\n",
    "\n",
    "import ROOT\n",
    "\n",
    "a, b = 1, 2\n",
    "ROOT.gInterpreter.ProcessLine('TPython::Exec(\"a, b = 3, 4\")')\n",
    "print(a,b)"
   ]
  }
 ],
 "metadata": {
  "kernelspec": {
   "display_name": "Python 2",
   "language": "python",
   "name": "python2"
  },
  "language_info": {
   "codemirror_mode": {
    "name": "ipython",
    "version": 2
   },
   "file_extension": ".py",
   "mimetype": "text/x-python",
   "name": "python",
   "nbconvert_exporter": "python",
   "pygments_lexer": "ipython2",
   "version": "2.7.14"
  }
 },
 "nbformat": 4,
 "nbformat_minor": 2
}

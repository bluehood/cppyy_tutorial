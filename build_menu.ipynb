{
 "cells": [
  {
   "cell_type": "code",
   "execution_count": 1,
   "metadata": {},
   "outputs": [
    {
     "ename": "ImportError",
     "evalue": "No module named libPyROOT",
     "output_type": "error",
     "traceback": [
      "\u001b[0;31m---------------------------------------------------------------------------\u001b[0m",
      "\u001b[0;31mImportError\u001b[0m                               Traceback (most recent call last)",
      "\u001b[0;32m<ipython-input-1-0968f01a231a>\u001b[0m in \u001b[0;36m<module>\u001b[0;34m()\u001b[0m\n\u001b[1;32m      9\u001b[0m \u001b[0;34m\u001b[0m\u001b[0m\n\u001b[1;32m     10\u001b[0m \u001b[0;32mimport\u001b[0m \u001b[0mos\u001b[0m\u001b[0;34m,\u001b[0m \u001b[0msys\u001b[0m\u001b[0;34m\u001b[0m\u001b[0m\n\u001b[0;32m---> 11\u001b[0;31m \u001b[0;32mimport\u001b[0m \u001b[0mROOT\u001b[0m\u001b[0;34m\u001b[0m\u001b[0m\n\u001b[0m\u001b[1;32m     12\u001b[0m \u001b[0;34m\u001b[0m\u001b[0m\n\u001b[1;32m     13\u001b[0m \u001b[0;31m# To run, do an \"execfile( '<path-to>/demo.py' )\" or \"python <path-to>/demo.py\"\u001b[0m\u001b[0;34m\u001b[0m\u001b[0;34m\u001b[0m\u001b[0m\n",
      "\u001b[0;32m/home/blue/ROOT/root_build/lib/ROOT.py\u001b[0m in \u001b[0;36m<module>\u001b[0;34m()\u001b[0m\n\u001b[1;32m     22\u001b[0m \u001b[0;31m### system and interpreter setup ------------------------------------------------\u001b[0m\u001b[0;34m\u001b[0m\u001b[0;34m\u001b[0m\u001b[0m\n\u001b[1;32m     23\u001b[0m \u001b[0;32mimport\u001b[0m \u001b[0mos\u001b[0m\u001b[0;34m,\u001b[0m \u001b[0msys\u001b[0m\u001b[0;34m,\u001b[0m \u001b[0mtypes\u001b[0m\u001b[0;34m\u001b[0m\u001b[0m\n\u001b[0;32m---> 24\u001b[0;31m \u001b[0;32mimport\u001b[0m \u001b[0mcppyy\u001b[0m\u001b[0;34m\u001b[0m\u001b[0m\n\u001b[0m\u001b[1;32m     25\u001b[0m \u001b[0;34m\u001b[0m\u001b[0m\n\u001b[1;32m     26\u001b[0m \u001b[0;34m\u001b[0m\u001b[0m\n",
      "\u001b[0;32m/home/blue/ROOT/root_build/lib/cppyy.py\u001b[0m in \u001b[0;36m<module>\u001b[0;34m()\u001b[0m\n\u001b[1;32m     59\u001b[0m       \u001b[0msys\u001b[0m\u001b[0;34m.\u001b[0m\u001b[0msetdlopenflags\u001b[0m\u001b[0;34m(\u001b[0m \u001b[0;36m0x100\u001b[0m \u001b[0;34m|\u001b[0m \u001b[0;36m0x2\u001b[0m \u001b[0;34m)\u001b[0m    \u001b[0;31m# RTLD_GLOBAL | RTLD_NOW\u001b[0m\u001b[0;34m\u001b[0m\u001b[0m\n\u001b[1;32m     60\u001b[0m \u001b[0;34m\u001b[0m\u001b[0m\n\u001b[0;32m---> 61\u001b[0;31m    \u001b[0;32mimport\u001b[0m \u001b[0mlibPyROOT\u001b[0m \u001b[0;32mas\u001b[0m \u001b[0m_backend\u001b[0m\u001b[0;34m\u001b[0m\u001b[0m\n\u001b[0m\u001b[1;32m     62\u001b[0m \u001b[0;34m\u001b[0m\u001b[0m\n\u001b[1;32m     63\u001b[0m    \u001b[0;31m# reset dl flags if needed\u001b[0m\u001b[0;34m\u001b[0m\u001b[0;34m\u001b[0m\u001b[0m\n",
      "\u001b[0;31mImportError\u001b[0m: No module named libPyROOT"
     ]
    }
   ],
   "source": [
    "# %load demo.py\n",
    "## \\file\n",
    "## \\ingroup tutorial_pyroot\n",
    "## To run, do an \"execfile( '<path-to>/demo.py' )\" or \"python <path-to>/demo.py\"\n",
    "##\n",
    "## \\macro_code\n",
    "##\n",
    "## \\author Wim Lavrijsen\n",
    "\n",
    "import os, sys\n",
    "import ROOT\n",
    "\n",
    "# To run, do an \"execfile( '<path-to>/demo.py' )\" or \"python <path-to>/demo.py\"\n",
    "\n",
    "# enable running from another directory than the one where demo.py resides\n",
    "workdir = os.path.dirname( sys.argv[0] )\n",
    "if workdir:\n",
    "   os.chdir( workdir )\n",
    "\n",
    "# This macro generates a Controlbar menu.\n",
    "# To execute an item, click with the left mouse button.\n",
    "# To see the HELP of a button, click on the right mouse button.\n",
    "\n",
    "ROOT.gStyle.SetScreenFactor(1)   # if you have a large screen, select 1.2 or 1.4\n",
    "\n",
    "bar = ROOT.TControlBar( 'vertical', 'Demos', 10, 10 )\n",
    "\n",
    "# The callbacks to python work by having CINT call the python interpreter through\n",
    "# the \"TPython\" class. Note the use of \"raw strings.\"\n",
    "bar.AddButton( 'Help on Demos', r'TPython::Exec( \"execfile( \\'demoshelp.py\\' )\" );', 'Click Here For Help on Running the Demos' )\n",
    "bar.AddButton( 'browser',       r'TPython::Exec( \"b = ROOT.TBrowser()\" );',          'Start the ROOT browser' )\n",
    "bar.AddButton( 'framework',     r'TPython::Exec( \"execfile( \\'framework.py\\' )\" );', 'An Example of Object Oriented User Interface' )\n",
    "bar.AddButton( 'first',         r'TPython::Exec( \"execfile( \\'first.py\\' )\" );',     'An Example of Slide with Root' )\n",
    "bar.AddButton( 'hsimple',       r'TPython::Exec( \"execfile( \\'hsimple.py\\' )\" );',   'Creating histograms/Ntuples on file', \"button\" )\n",
    "bar.AddButton( 'hsum',          r'TPython::Exec( \"execfile( \\'hsum.py\\' )\" );',      'Filling Histograms and Some Graphics Options' )\n",
    "bar.AddButton( 'formula1',      r'TPython::Exec( \"execfile( \\'formula1.py\\' )\" );',  'Simple Formula and Functions' )\n",
    "bar.AddButton( 'surfaces',      r'TPython::Exec( \"execfile( \\'surfaces.py\\' )\" );',  'Surface Drawing Options' )\n",
    "bar.AddButton( 'fillrandom',    r'TPython::Exec( \"execfile( \\'fillrandom.py\\' )\" );','Histograms with Random Numbers from a Function' )\n",
    "bar.AddButton( 'fit1',          r'TPython::Exec( \"execfile( \\'fit1.py\\' )\" );',      'A Simple Fitting Example' )\n",
    "bar.AddButton( 'multifit',      r'TPython::Exec( \"execfile( \\'multifit.py\\' )\" );',  'Fitting in Subranges of Histograms' )\n",
    "bar.AddButton( 'h1draw',        r'TPython::Exec( \"execfile( \\'h1draw.py\\' )\" );',    'Drawing Options for 1D Histograms' )\n",
    "bar.AddButton( 'graph',         r'TPython::Exec( \"execfile( \\'graph.py\\' )\" );',     'Example of a Simple Graph' )\n",
    "bar.AddButton( 'gerrors',       r'TPython::Exec( \"execfile( \\'gerrors.py\\' )\" );',   'Example of a Graph with Error Bars' )\n",
    "bar.AddButton( 'tornado',       r'TPython::Exec( \"execfile( \\'tornado.py\\' )\" );',   'Examples of 3-D PolyMarkers' )\n",
    "bar.AddButton( 'shapes',        r'TPython::Exec( \"execfile( \\'shapes.py\\' )\" );',    'The Geometry Shapes' )\n",
    "bar.AddButton( 'geometry',      r'TPython::Exec( \"execfile( \\'geometry.py\\' )\" );',  'Creation of the NA49 Geometry File' )\n",
    "bar.AddButton( 'na49view',      r'TPython::Exec( \"execfile( \\'na49view.py\\' )\" );',  'Two Views of the NA49 Detector Geometry' )\n",
    "bar.AddButton( 'file',          r'TPython::Exec( \"execfile( \\'file.py\\' )\" );',      'The ROOT File Format' )\n",
    "bar.AddButton( 'fildir',        r'TPython::Exec( \"execfile( \\'fildir.py\\' )\" );',    'The ROOT File, Directories and Keys' )\n",
    "bar.AddButton( 'tree',          r'TPython::Exec( \"execfile( \\'tree.py\\' )\" );',      'The Tree Data Structure' )\n",
    "bar.AddButton( 'ntuple1',       r'TPython::Exec( \"execfile( \\'ntuple1.py\\' )\" );',   'Ntuples and Selections' )\n",
    "bar.AddButton( 'rootmarks',     r'TPython::Exec( \"execfile( \\'rootmarks.py\\' )\" );', 'Prints an Estimated ROOTMARKS for Your Machine' )\n",
    "bar.AddSeparator()       # not implemented\n",
    "bar.AddButton( 'make ntuple',   r'TPython::Exec( \"execfile( \\'mrt.py\\' )\" );',       'Convert a text file to an ntuple' )\n",
    "\n",
    "bar.Show()\n",
    "\n",
    "ROOT.gROOT.SaveContext()\n",
    "\n",
    "\n",
    "## wait for input to keep the GUI (which lives on a ROOT event dispatcher) alive\n",
    "if __name__ == '__main__':\n",
    "   rep = ''\n",
    "   while not rep in [ 'q', 'Q' ]:\n",
    "      rep = raw_input( 'enter \"q\" to quit: ' )\n",
    "      if 1 < len(rep):\n",
    "         rep = rep[0]\n"
   ]
  },
  {
   "cell_type": "code",
   "execution_count": null,
   "metadata": {},
   "outputs": [],
   "source": []
  }
 ],
 "metadata": {
  "kernelspec": {
   "display_name": "Python 2",
   "language": "python",
   "name": "python2"
  },
  "language_info": {
   "codemirror_mode": {
    "name": "ipython",
    "version": 2
   },
   "file_extension": ".py",
   "mimetype": "text/x-python",
   "name": "python",
   "nbconvert_exporter": "python",
   "pygments_lexer": "ipython2",
   "version": "2.7.14"
  }
 },
 "nbformat": 4,
 "nbformat_minor": 2
}
